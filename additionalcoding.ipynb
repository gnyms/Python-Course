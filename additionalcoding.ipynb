{
  "nbformat": 4,
  "nbformat_minor": 0,
  "metadata": {
    "colab": {
      "provenance": []
    },
    "kernelspec": {
      "name": "python3",
      "display_name": "Python 3"
    },
    "language_info": {
      "name": "python"
    }
  },
  "cells": [
    {
      "cell_type": "code",
      "execution_count": 1,
      "metadata": {
        "colab": {
          "base_uri": "https://localhost:8080/"
        },
        "id": "R_1w9yI_8RW1",
        "outputId": "58c0ee1d-2071-481d-8123-f3ed6c439f8b"
      },
      "outputs": [
        {
          "output_type": "stream",
          "name": "stdout",
          "text": [
            "first_name filankes\n",
            "last_name filankesov\n",
            "age 18\n",
            "city baku\n"
          ]
        }
      ],
      "source": [
        "# 1. Person:\n",
        "\n",
        "dict1 = {\n",
        "    'first_name': 'filankes',\n",
        "    'last_name': 'filankesov',\n",
        "    'age': 18,\n",
        "    'city': 'baku'\n",
        "}\n",
        "\n",
        "for x, y in dict1.items():\n",
        "  print(x, y)"
      ]
    },
    {
      "cell_type": "code",
      "source": [
        "# 2. Favorite Numbers:\n",
        "\n",
        "dict2 = {\n",
        "    'filankes1': 7,\n",
        "    'filankes2': 9,\n",
        "    'filankes3': 12,\n",
        "    'filankes4': 99,\n",
        "    'filankes5': 0\n",
        "}\n",
        "\n",
        "for a, b in dict2.items():\n",
        "  print(f\"{a}'s fav number is {b}.\")"
      ],
      "metadata": {
        "colab": {
          "base_uri": "https://localhost:8080/"
        },
        "id": "kzlUWCS4-Kta",
        "outputId": "e372c67f-434d-4b0c-a9e2-0eb6a9520af5"
      },
      "execution_count": 3,
      "outputs": [
        {
          "output_type": "stream",
          "name": "stdout",
          "text": [
            "filankes1's fav number is 7.\n",
            "filankes2's fav number is 9.\n",
            "filankes3's fav number is 12.\n",
            "filankes4's fav number is 99.\n",
            "filankes5's fav number is 0.\n"
          ]
        }
      ]
    },
    {
      "cell_type": "code",
      "source": [
        "# 3. Glossary:\n",
        "\n",
        "dict3 = {\n",
        "   'Variable': 'A container for storing data values.',\n",
        "   'String' : 'A sequence of characters.',\n",
        "   'List': 'An ordered collection of items.',\n",
        "   'Dictionary': 'A collection of key-value pairs',\n",
        "   'Function': 'A block of code that performs a specific task.'\n",
        "}\n",
        "\n",
        "for word, meaning in dict3.items():\n",
        "  print(f'{word}:\\n   {meaning}')"
      ],
      "metadata": {
        "colab": {
          "base_uri": "https://localhost:8080/"
        },
        "id": "RQ-T2oz8-rDP",
        "outputId": "a104d2f3-34d3-496a-de56-ca0843c1232d"
      },
      "execution_count": 5,
      "outputs": [
        {
          "output_type": "stream",
          "name": "stdout",
          "text": [
            "Variable:\n",
            "   A container for storing data values.\n",
            "String:\n",
            "   A sequence of characters.\n",
            "List:\n",
            "   An ordered collection of items.\n",
            "Dictionary:\n",
            "   A collection of key-value pairs\n",
            "Function:\n",
            "   A block of code that performs a specific task.\n"
          ]
        }
      ]
    },
    {
      "cell_type": "code",
      "source": [
        "# Exercise 2: Polling:\n",
        "\n",
        "favorite_languages = {\n",
        "    'jen': ['python', 'rust'],\n",
        "    'sarah': ['c'],\n",
        "    'edward': ['rust', 'go'],\n",
        "    'phil': ['python', 'haskell'],\n",
        "    }\n",
        "\n",
        "people = ['jen', 'murad', 'sarah', 'klaus', 'mikael']\n",
        "\n",
        "for adam in people:\n",
        "  if adam in favorite_languages.keys():\n",
        "    print(f'{adam}, thanks for participating!')\n",
        "  else:\n",
        "    print(f'{adam}, please, take our poll!')"
      ],
      "metadata": {
        "colab": {
          "base_uri": "https://localhost:8080/"
        },
        "id": "QGlhVBif_zcS",
        "outputId": "395cdd67-3494-426b-cd21-d802e12f1b65"
      },
      "execution_count": 7,
      "outputs": [
        {
          "output_type": "stream",
          "name": "stdout",
          "text": [
            "jen, thanks for participating!\n",
            "murad, please, take our poll!\n",
            "sarah, thanks for participating!\n",
            "klaus, please, take our poll!\n",
            "mikael, please, take our poll!\n"
          ]
        }
      ]
    },
    {
      "cell_type": "code",
      "source": [
        "# Pets:\n",
        "\n",
        "cat = {\n",
        "    'owner': 'gunay',\n",
        "    'kind': 'cat'\n",
        "}\n",
        "\n",
        "dog = {\n",
        "    'owner': 'murad',\n",
        "    'kind': 'dog'\n",
        "}\n",
        "\n",
        "animals = [cat, dog]\n",
        "\n",
        "for w in animals:\n",
        "  owner, kind = w.values()\n",
        "  print(f'the name of the owner is {owner} and they own a {kind}!')"
      ],
      "metadata": {
        "colab": {
          "base_uri": "https://localhost:8080/"
        },
        "id": "DbxuDssIBima",
        "outputId": "2345602d-535b-403c-96f3-cdbf6ef84d86"
      },
      "execution_count": 9,
      "outputs": [
        {
          "output_type": "stream",
          "name": "stdout",
          "text": [
            "the name of the owner is gunay and they own a cat!\n",
            "the name of the owner is murad and they own a dog!\n"
          ]
        }
      ]
    },
    {
      "cell_type": "code",
      "source": [
        "# Favorite Places:\n",
        "\n",
        "favorite_places = {\n",
        "    'gunay': ['berlin', 'malaga'],\n",
        "    'murad': ['baku', 'sumqayit', 'quba'],\n",
        "    'filankes': ['london']\n",
        "}\n",
        "\n",
        "for name, place in favorite_places.items():\n",
        "  print(f\"{name}'s fav places: {place}\")"
      ],
      "metadata": {
        "colab": {
          "base_uri": "https://localhost:8080/"
        },
        "id": "oxduhbw-Csp1",
        "outputId": "e16026d7-2513-46d5-abd3-65307d3a54cb"
      },
      "execution_count": 13,
      "outputs": [
        {
          "output_type": "stream",
          "name": "stdout",
          "text": [
            "gunay's fav places: ['berlin', 'malaga']\n",
            "murad's fav places: ['baku', 'sumqayit', 'quba']\n",
            "filankes's fav places: ['london']\n"
          ]
        }
      ]
    },
    {
      "cell_type": "code",
      "source": [
        "# Cities:\n",
        "\n",
        "baku = {\n",
        "    'country': 'azerbaijan',\n",
        "    'population': 10000000,\n",
        "    'funfact': 'city of winds'\n",
        "}\n",
        "\n",
        "istanbul = {\n",
        "    'country': 'turkiye',\n",
        "    'population': 99000000,\n",
        "    'funfact': 'they have baklava'\n",
        "}\n",
        "\n",
        "moscow = {\n",
        "    'country': 'russia',\n",
        "    'population': 124000000,\n",
        "    'funfact': 'vodka'\n",
        "}\n",
        "\n",
        "cities = {\n",
        "    'baku': baku,\n",
        "    'istanbul': istanbul,\n",
        "    'moscow': moscow\n",
        "}\n",
        "\n",
        "for city, info in cities.items():\n",
        "  print(f\"{city.title()}'s population is texmini {info.get('population')}, it is located in {info.get('country')}, one fun thing about is that {info.get('funfact')}!\")"
      ],
      "metadata": {
        "colab": {
          "base_uri": "https://localhost:8080/"
        },
        "id": "vNQGgQMeDDx5",
        "outputId": "d8abe11a-e073-4020-c982-edac1f64534c"
      },
      "execution_count": 29,
      "outputs": [
        {
          "output_type": "stream",
          "name": "stdout",
          "text": [
            "Baku's population is texmini 10000000, it is located in azerbaijan, one fun thing about is that city of winds!\n",
            "Istanbul's population is texmini 99000000, it is located in turkiye, one fun thing about is that they have baklava!\n",
            "Moscow's population is texmini 124000000, it is located in russia, one fun thing about is that vodka!\n"
          ]
        }
      ]
    },
    {
      "cell_type": "code",
      "source": [],
      "metadata": {
        "id": "ZqWYOtVGG1HH"
      },
      "execution_count": null,
      "outputs": []
    }
  ]
}