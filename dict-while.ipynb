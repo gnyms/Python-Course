{
  "nbformat": 4,
  "nbformat_minor": 0,
  "metadata": {
    "colab": {
      "provenance": []
    },
    "kernelspec": {
      "name": "python3",
      "display_name": "Python 3"
    },
    "language_info": {
      "name": "python"
    }
  },
  "cells": [
    {
      "cell_type": "markdown",
      "source": [
        "1) Get the keys from the dictionaries named *sample_dic* as a list\n",
        "```\n",
        "sample_dict = {\n",
        "    'Physics': 82,\n",
        "    'Math': 65,\n",
        "    'history': 75\n",
        "}\n",
        "```\n",
        "\n"
      ],
      "metadata": {
        "id": "t0LHIhxSJLoq"
      }
    },
    {
      "cell_type": "code",
      "execution_count": null,
      "metadata": {
        "id": "pmqLrrVLJLGs",
        "outputId": "a5fbc885-681d-419e-aed5-0a624af47146",
        "colab": {
          "base_uri": "https://localhost:8080/"
        }
      },
      "outputs": [
        {
          "output_type": "stream",
          "name": "stdout",
          "text": [
            "['Physics', 'Math', 'history']\n"
          ]
        }
      ],
      "source": [
        "sample_dict = {\n",
        "    'Physics': 82,\n",
        "    'Math': 65,\n",
        "    'history': 75\n",
        "}\n",
        "\n",
        "print(list(sample_dict.keys()))"
      ]
    },
    {
      "cell_type": "markdown",
      "source": [
        "2) Get sum of all the values in a dict\n",
        "\n",
        "```\n",
        "#Input:\n",
        "sample_dict = {\n",
        "    'Physics': 82,\n",
        "    'Math': 65,\n",
        "    'history': 75,\n",
        "    'chemistry': 89,\n",
        "    'GK': 50\n",
        "    \n",
        "}\n",
        "\n",
        "#Expected Output: 361\n",
        "\n",
        "```"
      ],
      "metadata": {
        "id": "w5sNggvfKBPs"
      }
    },
    {
      "cell_type": "code",
      "source": [
        "# Input:\n",
        "sample_dict = {\n",
        "    'Physics': 82,\n",
        "    'Math': 65,\n",
        "    'history': 75,\n",
        "    'chemistry': 89,\n",
        "    'GK': 50\n",
        "\n",
        "}\n",
        "\n",
        "# Expected Output: 361\n",
        "\n",
        "print(sum(list(sample_dict.values())))"
      ],
      "metadata": {
        "id": "ELkGWzcHPYUM",
        "outputId": "5015f9f1-ada2-4c62-eb16-63a9fd4865fe",
        "colab": {
          "base_uri": "https://localhost:8080/"
        }
      },
      "execution_count": null,
      "outputs": [
        {
          "output_type": "stream",
          "name": "stdout",
          "text": [
            "361\n"
          ]
        }
      ]
    },
    {
      "cell_type": "markdown",
      "source": [
        "3)Get the key of a minimum value from the following dictionary\n",
        "\n",
        "```\n",
        "#Input:\n",
        "sample_dict = {\n",
        "  'Physics': 82,\n",
        "  'Math': 65,\n",
        "  'history': 75\n",
        "}\n",
        "\n",
        "#Expected Output: Math\n",
        "\n",
        "```"
      ],
      "metadata": {
        "id": "hXoPfj4-JXko"
      }
    },
    {
      "cell_type": "code",
      "source": [
        "# Input:\n",
        "sample_dict = {\n",
        "  'Physics': 82,\n",
        "  'Math': 65,\n",
        "  'history': 75\n",
        "}\n",
        "\n",
        "# Expected Output: Math\n",
        "\n",
        "value = min(list(sample_dict.values()))\n",
        "for key in list(sample_dict.keys()):\n",
        "  if sample_dict[key] == value:\n",
        "    print(key)\n",
        "  else:\n",
        "    continue"
      ],
      "metadata": {
        "id": "c_Hx9LJsPh-q",
        "outputId": "c9aedba2-4301-4c03-ee93-53860700a432",
        "colab": {
          "base_uri": "https://localhost:8080/"
        }
      },
      "execution_count": null,
      "outputs": [
        {
          "output_type": "stream",
          "name": "stdout",
          "text": [
            "Math\n"
          ]
        }
      ]
    },
    {
      "cell_type": "markdown",
      "source": [
        "4) Delete a list of keys from a dictionary\n",
        "```\n",
        "#Inputs:\n",
        "sample_dict = {\n",
        "    \"name\": \"Khalid\",\n",
        "    \"age\": 23,\n",
        "    \"salary\": 1000,\n",
        "    \"city\": \"Baku\"\n",
        "}\n",
        "\n",
        "# Keys to remove\n",
        "keys = [\"name\", \"salary\"]\n",
        "\n",
        "# Expected Output: {'city': 'Baku', 'age': 23}\n",
        "```"
      ],
      "metadata": {
        "id": "CTSGF0hmJgDD"
      }
    },
    {
      "cell_type": "code",
      "source": [
        "sample_dict = {\n",
        "    \"name\": \"Khalid\",\n",
        "    \"age\": 23,\n",
        "    \"salary\": 1000,\n",
        "    \"city\": \"Baku\"\n",
        "}\n",
        "\n",
        "keys = [\"name\", \"salary\"]\n",
        "\n",
        "while keys:\n",
        "  sil = keys.pop()\n",
        "  del sample_dict[sil]\n",
        "\n",
        "print(sample_dict)"
      ],
      "metadata": {
        "id": "fJZgcjr9QRxM",
        "outputId": "59262972-620d-4b80-88f5-1dbc3974015b",
        "colab": {
          "base_uri": "https://localhost:8080/"
        }
      },
      "execution_count": null,
      "outputs": [
        {
          "output_type": "stream",
          "name": "stdout",
          "text": [
            "{'age': 23, 'city': 'Baku'}\n"
          ]
        }
      ]
    },
    {
      "cell_type": "markdown",
      "source": [
        "5) Create a dictionary by extracting the keys from a given dictionary\n",
        "\n",
        "```\n",
        "# Inputs:\n",
        "sample_dict = {\n",
        "    \"name\": \"Khalid\",\n",
        "    \"age\": 23,\n",
        "    \"salary\": 1000,\n",
        "    \"city\": \"Baku\"}\n",
        "\n",
        "# Keys to extract\n",
        "keys = [\"name\", \"salary\"]\n",
        "\n",
        "# Expected Output: {'name': 'Khalid', 'salary': 1000}\n",
        "```"
      ],
      "metadata": {
        "id": "keTauTOfJ0RA"
      }
    },
    {
      "cell_type": "code",
      "source": [
        "sample_dict = {\n",
        "    \"name\": \"Khalid\",\n",
        "    \"age\": 23,\n",
        "    \"salary\": 1000,\n",
        "    \"city\": \"Baku\"\n",
        "}\n",
        "\n",
        "keys = [\"name\", \"salary\"]\n",
        "new = {}\n",
        "flag = True\n",
        "while flag:\n",
        "  key = keys.pop()\n",
        "  temp = {key: sample_dict.get(key)}\n",
        "  new.update(temp)\n",
        "  if len(keys) == 0:\n",
        "    flag = False\n",
        "  else:\n",
        "    continue\n",
        "\n",
        "print(new)"
      ],
      "metadata": {
        "id": "zn58U3pmQr4o",
        "outputId": "df52ee97-c782-4bbb-8512-a7242d55edb2",
        "colab": {
          "base_uri": "https://localhost:8080/"
        }
      },
      "execution_count": null,
      "outputs": [
        {
          "output_type": "stream",
          "name": "stdout",
          "text": [
            "{'salary': 1000, 'name': 'Khalid'}\n"
          ]
        }
      ]
    },
    {
      "cell_type": "markdown",
      "source": [
        "6) Take 10 integers from keyboard using loop and print their average value\n",
        "on the screen."
      ],
      "metadata": {
        "id": "KW4qi0i5KNQd"
      }
    },
    {
      "cell_type": "code",
      "source": [
        "count = 0\n",
        "listim = []\n",
        "while count < 10:\n",
        "  num = int(input('enter a number: '))\n",
        "  listim.append(num)\n",
        "  count += 1\n",
        "print(sum(listim) / len(listim))"
      ],
      "metadata": {
        "id": "_QeKJt5qSpZm",
        "outputId": "db5810e2-756f-406b-c258-bca542f86471",
        "colab": {
          "base_uri": "https://localhost:8080/"
        }
      },
      "execution_count": null,
      "outputs": [
        {
          "output_type": "stream",
          "name": "stdout",
          "text": [
            "enter a number: 5\n",
            "enter a number: 5\n",
            "enter a number: 5\n",
            "enter a number: 5\n",
            "enter a number: 5\n",
            "enter a number: 7\n",
            "enter a number: 7\n",
            "enter a number: 7\n",
            "enter a number: 7\n",
            "enter a number: 7\n",
            "6.0\n"
          ]
        }
      ]
    },
    {
      "cell_type": "markdown",
      "source": [
        "7) Print multiplication table of 24 using loop."
      ],
      "metadata": {
        "id": "yTkI4J3aKOrs"
      }
    },
    {
      "cell_type": "code",
      "source": [
        "def bol24():\n",
        "  first = 24\n",
        "  second = 24\n",
        "  listimiz = []\n",
        "\n",
        "  while second > 0:\n",
        "      result = first * second\n",
        "      listimiz.append(f'{first} * {second} = {result}')\n",
        "      second -= 1\n",
        "\n",
        "  while listimiz:\n",
        "    print(listimiz.pop())\n",
        "\n",
        "bol24()"
      ],
      "metadata": {
        "id": "G7Rczy6dZmk8",
        "outputId": "27cb16fd-2907-49be-c294-bd1cf831c5df",
        "colab": {
          "base_uri": "https://localhost:8080/"
        }
      },
      "execution_count": null,
      "outputs": [
        {
          "output_type": "stream",
          "name": "stdout",
          "text": [
            "24 * 1 = 24\n",
            "24 * 2 = 48\n",
            "24 * 3 = 72\n",
            "24 * 4 = 96\n",
            "24 * 5 = 120\n",
            "24 * 6 = 144\n",
            "24 * 7 = 168\n",
            "24 * 8 = 192\n",
            "24 * 9 = 216\n",
            "24 * 10 = 240\n",
            "24 * 11 = 264\n",
            "24 * 12 = 288\n",
            "24 * 13 = 312\n",
            "24 * 14 = 336\n",
            "24 * 15 = 360\n",
            "24 * 16 = 384\n",
            "24 * 17 = 408\n",
            "24 * 18 = 432\n",
            "24 * 19 = 456\n",
            "24 * 20 = 480\n",
            "24 * 21 = 504\n",
            "24 * 22 = 528\n",
            "24 * 23 = 552\n",
            "24 * 24 = 576\n"
          ]
        }
      ]
    },
    {
      "cell_type": "markdown",
      "source": [
        "8) Factorial of any number n is represented by n! and is equal to 1*2*3*....*(n-1)*n.\n",
        "\n",
        "Write a program to calculate factorial of a number.\n",
        "\n",
        "```\n",
        "4! = 1*2*3*4 = 24\n",
        "3! = 3*2*1 = 6\n",
        "2! = 2*1 = 2\n",
        "\n",
        "Also,\n",
        "1! = 1\n",
        "0! = 1\n",
        "```\n"
      ],
      "metadata": {
        "id": "PpkgIjOEKUU0"
      }
    },
    {
      "cell_type": "code",
      "source": [
        "eded = int(input())\n",
        "\n",
        "h = 1\n",
        "n = 1\n",
        "\n",
        "while n <= eded:\n",
        "  h *= n\n",
        "  n += 1\n",
        "\n",
        "if eded == 0 or eded == 1:\n",
        "  print(f'the factorial of {eded} is 1.')\n",
        "else:\n",
        "\n",
        "  print(f'{eded}! = ', end='')\n",
        "  for i in range(1, eded+1):\n",
        "    if i == eded:\n",
        "      print(f\"{i} = {h}\")\n",
        "\n",
        "    else:\n",
        "      print(f'{i}*', end='')"
      ],
      "metadata": {
        "id": "xNM4BpopZltk",
        "outputId": "1d9223f0-8c4d-49a3-d838-e9c789239814",
        "colab": {
          "base_uri": "https://localhost:8080/"
        }
      },
      "execution_count": null,
      "outputs": [
        {
          "output_type": "stream",
          "name": "stdout",
          "text": [
            "1\n",
            "the factorial of 1 is 1.\n"
          ]
        }
      ]
    },
    {
      "cell_type": "markdown",
      "source": [
        "9) Write a program that calculates the sum of the digits of a given number. Ask the user to input a number"
      ],
      "metadata": {
        "id": "1V-KIxBHKjiU"
      }
    },
    {
      "cell_type": "code",
      "source": [
        "num = int(input('enter an eded: '))\n",
        "sum = 0\n",
        "while num > 0:\n",
        "  sum += num % 10\n",
        "  num //= 10\n",
        "print(sum)"
      ],
      "metadata": {
        "id": "M_ZDo0WKaMoF",
        "outputId": "ff802fac-ddd1-4eab-b5a1-de119ca35935",
        "colab": {
          "base_uri": "https://localhost:8080/"
        }
      },
      "execution_count": null,
      "outputs": [
        {
          "output_type": "stream",
          "name": "stdout",
          "text": [
            "enter an eded: 234\n",
            "9\n"
          ]
        }
      ]
    },
    {
      "cell_type": "markdown",
      "source": [
        "10) Write a Python program that takes a string input from the user and counts the number of characters in the string."
      ],
      "metadata": {
        "id": "cLIPyMzuLLUU"
      }
    },
    {
      "cell_type": "code",
      "source": [
        "text = input('enter a string input: ')\n",
        "print(len(text))"
      ],
      "metadata": {
        "id": "PFs4jQD3agOd",
        "outputId": "7953f725-b424-4a89-eab2-6c1a94373130",
        "colab": {
          "base_uri": "https://localhost:8080/"
        }
      },
      "execution_count": null,
      "outputs": [
        {
          "output_type": "stream",
          "name": "stdout",
          "text": [
            "enter a string input: salams\n",
            "6\n"
          ]
        }
      ]
    },
    {
      "cell_type": "code",
      "source": [],
      "metadata": {
        "id": "I-NSEskyaqZZ"
      },
      "execution_count": null,
      "outputs": []
    }
  ]
}